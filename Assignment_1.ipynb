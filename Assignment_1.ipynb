{
  "nbformat": 4,
  "nbformat_minor": 0,
  "metadata": {
    "colab": {
      "name": "Assignment_1.ipynb",
      "provenance": [],
      "authorship_tag": "ABX9TyO4y/UA7p5dUZnMw4Dz4Isn",
      "include_colab_link": true
    },
    "kernelspec": {
      "name": "python3",
      "display_name": "Python 3"
    },
    "language_info": {
      "name": "python"
    }
  },
  "cells": [
    {
      "cell_type": "markdown",
      "metadata": {
        "id": "view-in-github",
        "colab_type": "text"
      },
      "source": [
        "<a href=\"https://colab.research.google.com/github/deepaktamil20/Cartesian_Consulting_Assesment/blob/main/Assignment_1.ipynb\" target=\"_parent\"><img src=\"https://colab.research.google.com/assets/colab-badge.svg\" alt=\"Open In Colab\"/></a>"
      ]
    },
    {
      "cell_type": "markdown",
      "source": [
        "<h3><b>The Problem Statement<h3>\n",
        "The program takes input a short abstract and outputs the following\n",
        "<br> i) Prints each word in reverse.\n",
        "<br> ii) Prints Top 2 occurring words in sorted order. \n",
        "<br> The words that have occurred most of the\n",
        "time."
      ],
      "metadata": {
        "id": "5KSfwmq7bzXq"
      }
    },
    {
      "cell_type": "code",
      "execution_count": 22,
      "metadata": {
        "colab": {
          "base_uri": "https://localhost:8080/"
        },
        "id": "yl-nWa7HQvxs",
        "outputId": "312c6e28-4bae-46e6-a38a-16a31c401ac6"
      },
      "outputs": [
        {
          "output_type": "stream",
          "name": "stdout",
          "text": [
            "&quot;This declaration represents a political commitment among declaration partners to advance a positive vision for the Internet in this era of a united europe&quot;\n",
            "europe&quot; united a of era this in Internet the for vision positive a advance to partners declaration among commitment political a represents declaration &quot;This\n"
          ]
        }
      ],
      "source": [
        "#input\n",
        "str = input()\n",
        "#splitting the string\n",
        "str1 = str.split()\n",
        "#Reverse function\n",
        "str1 = list(reversed(str1))\n",
        "print(\" \".join(str1))"
      ]
    },
    {
      "cell_type": "code",
      "source": [
        "from collections import Counter\n",
        "text = str.lower()\n",
        "text1 = text.split()\n",
        "Counter = Counter(text1)\n",
        "repeated_words = Counter.most_common(2)\n",
        "print(repeated_words)"
      ],
      "metadata": {
        "colab": {
          "base_uri": "https://localhost:8080/"
        },
        "id": "7YyuLtPYWOvR",
        "outputId": "8bd965cd-1e55-46d7-a19b-2bb65597faea"
      },
      "execution_count": 23,
      "outputs": [
        {
          "output_type": "stream",
          "name": "stdout",
          "text": [
            "[('a', 3), ('declaration', 2)]\n"
          ]
        }
      ]
    }
  ]
}